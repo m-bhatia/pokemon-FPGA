{
 "cells": [
  {
   "cell_type": "code",
   "execution_count": 3,
   "id": "b8fac89e",
   "metadata": {},
   "outputs": [],
   "source": [
    "from PIL import Image\n",
    "import os\n",
    "\n",
    "directory = 'red-blue'\n",
    "\n",
    "# Open a file to write the COE data\n",
    "with open('pokemon_sprites.coe', 'w') as coe_file:\n",
    "    coe_file.write(\"memory_initialization_radix=16;\\n\")\n",
    "    coe_file.write(\"memory_initialization_vector=\\n\")\n",
    "\n",
    "    # Iterate over each file in the directory\n",
    "    for filename in os.listdir(directory):\n",
    "        if filename.lower().endswith('.png'):\n",
    "            img_path = os.path.join(directory, filename)\n",
    "            img = Image.open(img_path)\n",
    "\n",
    "            img = img.convert('RGB')\n",
    "\n",
    "            for y in range(img.height):\n",
    "                for x in range(img.width):\n",
    "                    r, g, b = img.getpixel((x, y))\n",
    "                    \n",
    "                    # Perform color quantization if necessary\n",
    "                    r >>= 4\n",
    "                    g >>= 4\n",
    "                    b >>= 4\n",
    "\n",
    "                    hex_value = f\"{r:01X}{g:01X}{b:01X}\"\n",
    "\n",
    "                    coe_file.write(hex_value + \",\\n\")\n",
    "\n",
    "            # Add a delimiter between sprites\n",
    "            coe_file.write(\"000,\\n\")  # Assuming 000 is not a valid sprite pixel and can act as a delimiter\n",
    "\n",
    "    coe_file.write(\";\")\n"
   ]
  },
  {
   "cell_type": "code",
   "execution_count": null,
   "id": "ef64761d",
   "metadata": {},
   "outputs": [],
   "source": []
  }
 ],
 "metadata": {
  "kernelspec": {
   "display_name": "Python 3 (ipykernel)",
   "language": "python",
   "name": "python3"
  },
  "language_info": {
   "codemirror_mode": {
    "name": "ipython",
    "version": 3
   },
   "file_extension": ".py",
   "mimetype": "text/x-python",
   "name": "python",
   "nbconvert_exporter": "python",
   "pygments_lexer": "ipython3",
   "version": "3.9.7"
  }
 },
 "nbformat": 4,
 "nbformat_minor": 5
}
